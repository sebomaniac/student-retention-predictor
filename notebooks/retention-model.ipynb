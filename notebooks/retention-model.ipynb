{
 "cells": [
  {
   "cell_type": "markdown",
   "id": "d302c8f8",
   "metadata": {},
   "source": [
    "# Student Retention Predictor - Train Model\n",
    "> Predicting college dropout risk using U.S. Department of Education data"
   ]
  },
  {
   "cell_type": "markdown",
   "id": "93d00bf4",
   "metadata": {},
   "source": [
    "## Imports"
   ]
  },
  {
   "cell_type": "code",
   "execution_count": 1,
   "id": "c3f059c1",
   "metadata": {},
   "outputs": [
    {
     "name": "stderr",
     "output_type": "stream",
     "text": [
      "/Users/sebastianjohannessen/Desktop/student-retention-predictor/.venv/lib/python3.13/site-packages/tqdm/auto.py:21: TqdmWarning: IProgress not found. Please update jupyter and ipywidgets. See https://ipywidgets.readthedocs.io/en/stable/user_install.html\n",
      "  from .autonotebook import tqdm as notebook_tqdm\n"
     ]
    }
   ],
   "source": [
    "import pandas as pd\n",
    "import numpy as np\n",
    "import matplotlib.pyplot as plt\n",
    "import seaborn as sns\n",
    "import shap\n",
    "import joblib\n",
    "\n",
    "from sklearn.model_selection import train_test_split\n",
    "from sklearn.ensemble import RandomForestClassifier\n",
    "from sklearn.metrics import accuracy_score, classification_report, roc_auc_score"
   ]
  },
  {
   "cell_type": "markdown",
   "id": "b838b392",
   "metadata": {},
   "source": [
    "## Load and Preview Data"
   ]
  },
  {
   "cell_type": "code",
   "execution_count": 2,
   "id": "38cb7a5b",
   "metadata": {},
   "outputs": [
    {
     "data": {
      "text/html": [
       "<div>\n",
       "<style scoped>\n",
       "    .dataframe tbody tr th:only-of-type {\n",
       "        vertical-align: middle;\n",
       "    }\n",
       "\n",
       "    .dataframe tbody tr th {\n",
       "        vertical-align: top;\n",
       "    }\n",
       "\n",
       "    .dataframe thead th {\n",
       "        text-align: right;\n",
       "    }\n",
       "</style>\n",
       "<table border=\"1\" class=\"dataframe\">\n",
       "  <thead>\n",
       "    <tr style=\"text-align: right;\">\n",
       "      <th></th>\n",
       "      <th>UNITID</th>\n",
       "      <th>OPEID</th>\n",
       "      <th>OPEID6</th>\n",
       "      <th>INSTNM</th>\n",
       "      <th>CITY</th>\n",
       "      <th>STABBR</th>\n",
       "      <th>ZIP</th>\n",
       "      <th>ACCREDAGENCY</th>\n",
       "      <th>INSTURL</th>\n",
       "      <th>NPCURL</th>\n",
       "      <th>...</th>\n",
       "      <th>COUNT_WNE_MALE1_P11</th>\n",
       "      <th>GT_THRESHOLD_P11</th>\n",
       "      <th>MD_EARN_WNE_INC1_P11</th>\n",
       "      <th>MD_EARN_WNE_INC2_P11</th>\n",
       "      <th>MD_EARN_WNE_INC3_P11</th>\n",
       "      <th>MD_EARN_WNE_INDEP0_P11</th>\n",
       "      <th>MD_EARN_WNE_INDEP1_P11</th>\n",
       "      <th>MD_EARN_WNE_MALE0_P11</th>\n",
       "      <th>MD_EARN_WNE_MALE1_P11</th>\n",
       "      <th>SCORECARD_SECTOR</th>\n",
       "    </tr>\n",
       "  </thead>\n",
       "  <tbody>\n",
       "    <tr>\n",
       "      <th>0</th>\n",
       "      <td>100654</td>\n",
       "      <td>100200.0</td>\n",
       "      <td>1002.0</td>\n",
       "      <td>Alabama A &amp; M University</td>\n",
       "      <td>Normal</td>\n",
       "      <td>AL</td>\n",
       "      <td>35762</td>\n",
       "      <td>Southern Association of Colleges and Schools C...</td>\n",
       "      <td>www.aamu.edu/</td>\n",
       "      <td>www.aamu.edu/admissions-aid/tuition-fees/net-p...</td>\n",
       "      <td>...</td>\n",
       "      <td>777.0</td>\n",
       "      <td>0.6250</td>\n",
       "      <td>36650.0</td>\n",
       "      <td>41070.0</td>\n",
       "      <td>47016.0</td>\n",
       "      <td>38892.0</td>\n",
       "      <td>41738.0</td>\n",
       "      <td>38167.0</td>\n",
       "      <td>40250.0</td>\n",
       "      <td>4</td>\n",
       "    </tr>\n",
       "    <tr>\n",
       "      <th>1</th>\n",
       "      <td>100663</td>\n",
       "      <td>105200.0</td>\n",
       "      <td>1052.0</td>\n",
       "      <td>University of Alabama at Birmingham</td>\n",
       "      <td>Birmingham</td>\n",
       "      <td>AL</td>\n",
       "      <td>35294-0110</td>\n",
       "      <td>Southern Association of Colleges and Schools C...</td>\n",
       "      <td>https://www.uab.edu/</td>\n",
       "      <td>https://tcc.ruffalonl.com/University of Alabam...</td>\n",
       "      <td>...</td>\n",
       "      <td>1157.0</td>\n",
       "      <td>0.7588</td>\n",
       "      <td>47182.0</td>\n",
       "      <td>51896.0</td>\n",
       "      <td>54368.0</td>\n",
       "      <td>50488.0</td>\n",
       "      <td>51505.0</td>\n",
       "      <td>46559.0</td>\n",
       "      <td>59181.0</td>\n",
       "      <td>4</td>\n",
       "    </tr>\n",
       "    <tr>\n",
       "      <th>2</th>\n",
       "      <td>100690</td>\n",
       "      <td>2503400.0</td>\n",
       "      <td>25034.0</td>\n",
       "      <td>Amridge University</td>\n",
       "      <td>Montgomery</td>\n",
       "      <td>AL</td>\n",
       "      <td>36117-3553</td>\n",
       "      <td>Southern Association of Colleges and Schools C...</td>\n",
       "      <td>https://www.amridgeuniversity.edu/</td>\n",
       "      <td>https://www2.amridgeuniversity.edu:9091/</td>\n",
       "      <td>...</td>\n",
       "      <td>67.0</td>\n",
       "      <td>0.5986</td>\n",
       "      <td>35752.0</td>\n",
       "      <td>41007.0</td>\n",
       "      <td>NaN</td>\n",
       "      <td>NaN</td>\n",
       "      <td>38467.0</td>\n",
       "      <td>32654.0</td>\n",
       "      <td>49435.0</td>\n",
       "      <td>5</td>\n",
       "    </tr>\n",
       "    <tr>\n",
       "      <th>3</th>\n",
       "      <td>100706</td>\n",
       "      <td>105500.0</td>\n",
       "      <td>1055.0</td>\n",
       "      <td>University of Alabama in Huntsville</td>\n",
       "      <td>Huntsville</td>\n",
       "      <td>AL</td>\n",
       "      <td>35899</td>\n",
       "      <td>Southern Association of Colleges and Schools C...</td>\n",
       "      <td>www.uah.edu/</td>\n",
       "      <td>finaid.uah.edu/</td>\n",
       "      <td>...</td>\n",
       "      <td>802.0</td>\n",
       "      <td>0.7810</td>\n",
       "      <td>51208.0</td>\n",
       "      <td>62219.0</td>\n",
       "      <td>62577.0</td>\n",
       "      <td>55920.0</td>\n",
       "      <td>60221.0</td>\n",
       "      <td>47787.0</td>\n",
       "      <td>67454.0</td>\n",
       "      <td>4</td>\n",
       "    </tr>\n",
       "    <tr>\n",
       "      <th>4</th>\n",
       "      <td>100724</td>\n",
       "      <td>100500.0</td>\n",
       "      <td>1005.0</td>\n",
       "      <td>Alabama State University</td>\n",
       "      <td>Montgomery</td>\n",
       "      <td>AL</td>\n",
       "      <td>36104-0271</td>\n",
       "      <td>Southern Association of Colleges and Schools C...</td>\n",
       "      <td>www.alasu.edu/</td>\n",
       "      <td>www.alasu.edu/cost-aid/tuition-costs/net-price...</td>\n",
       "      <td>...</td>\n",
       "      <td>1049.0</td>\n",
       "      <td>0.5378</td>\n",
       "      <td>32844.0</td>\n",
       "      <td>36932.0</td>\n",
       "      <td>37966.0</td>\n",
       "      <td>34294.0</td>\n",
       "      <td>31797.0</td>\n",
       "      <td>32303.0</td>\n",
       "      <td>36964.0</td>\n",
       "      <td>4</td>\n",
       "    </tr>\n",
       "  </tbody>\n",
       "</table>\n",
       "<p>5 rows × 3306 columns</p>\n",
       "</div>"
      ],
      "text/plain": [
       "   UNITID      OPEID   OPEID6                               INSTNM  \\\n",
       "0  100654   100200.0   1002.0             Alabama A & M University   \n",
       "1  100663   105200.0   1052.0  University of Alabama at Birmingham   \n",
       "2  100690  2503400.0  25034.0                   Amridge University   \n",
       "3  100706   105500.0   1055.0  University of Alabama in Huntsville   \n",
       "4  100724   100500.0   1005.0             Alabama State University   \n",
       "\n",
       "         CITY STABBR         ZIP  \\\n",
       "0      Normal     AL       35762   \n",
       "1  Birmingham     AL  35294-0110   \n",
       "2  Montgomery     AL  36117-3553   \n",
       "3  Huntsville     AL       35899   \n",
       "4  Montgomery     AL  36104-0271   \n",
       "\n",
       "                                        ACCREDAGENCY  \\\n",
       "0  Southern Association of Colleges and Schools C...   \n",
       "1  Southern Association of Colleges and Schools C...   \n",
       "2  Southern Association of Colleges and Schools C...   \n",
       "3  Southern Association of Colleges and Schools C...   \n",
       "4  Southern Association of Colleges and Schools C...   \n",
       "\n",
       "                              INSTURL  \\\n",
       "0                       www.aamu.edu/   \n",
       "1                https://www.uab.edu/   \n",
       "2  https://www.amridgeuniversity.edu/   \n",
       "3                        www.uah.edu/   \n",
       "4                      www.alasu.edu/   \n",
       "\n",
       "                                              NPCURL  ...  \\\n",
       "0  www.aamu.edu/admissions-aid/tuition-fees/net-p...  ...   \n",
       "1  https://tcc.ruffalonl.com/University of Alabam...  ...   \n",
       "2           https://www2.amridgeuniversity.edu:9091/  ...   \n",
       "3                                    finaid.uah.edu/  ...   \n",
       "4  www.alasu.edu/cost-aid/tuition-costs/net-price...  ...   \n",
       "\n",
       "   COUNT_WNE_MALE1_P11  GT_THRESHOLD_P11  MD_EARN_WNE_INC1_P11  \\\n",
       "0                777.0            0.6250               36650.0   \n",
       "1               1157.0            0.7588               47182.0   \n",
       "2                 67.0            0.5986               35752.0   \n",
       "3                802.0            0.7810               51208.0   \n",
       "4               1049.0            0.5378               32844.0   \n",
       "\n",
       "   MD_EARN_WNE_INC2_P11  MD_EARN_WNE_INC3_P11  MD_EARN_WNE_INDEP0_P11  \\\n",
       "0               41070.0               47016.0                 38892.0   \n",
       "1               51896.0               54368.0                 50488.0   \n",
       "2               41007.0                   NaN                     NaN   \n",
       "3               62219.0               62577.0                 55920.0   \n",
       "4               36932.0               37966.0                 34294.0   \n",
       "\n",
       "   MD_EARN_WNE_INDEP1_P11  MD_EARN_WNE_MALE0_P11  MD_EARN_WNE_MALE1_P11  \\\n",
       "0                 41738.0                38167.0                40250.0   \n",
       "1                 51505.0                46559.0                59181.0   \n",
       "2                 38467.0                32654.0                49435.0   \n",
       "3                 60221.0                47787.0                67454.0   \n",
       "4                 31797.0                32303.0                36964.0   \n",
       "\n",
       "   SCORECARD_SECTOR  \n",
       "0                 4  \n",
       "1                 4  \n",
       "2                 5  \n",
       "3                 4  \n",
       "4                 4  \n",
       "\n",
       "[5 rows x 3306 columns]"
      ]
     },
     "execution_count": 2,
     "metadata": {},
     "output_type": "execute_result"
    }
   ],
   "source": [
    "df = pd.read_csv('../data/college_scorecard_apr2025.csv', low_memory=False)\n",
    "df.shape\n",
    "df.head()"
   ]
  },
  {
   "cell_type": "markdown",
   "id": "7e87ff30",
   "metadata": {},
   "source": [
    "## Column Selection and Cleaning"
   ]
  },
  {
   "cell_type": "code",
   "execution_count": 3,
   "id": "3baf0d5b",
   "metadata": {},
   "outputs": [],
   "source": [
    "cols = [\n",
    "    'PCTPELL',         # Percentage of undergraduates who receive a Pell Grant\n",
    "    'ADM_RATE',        # Admission rate\n",
    "    'REGION',          # Region (IPEDS)\n",
    "    'LOCALE',          # Locale of institution\n",
    "    'RET_FT4'          # Target variable: First-time, full-time student retention rate at four-year institutions\n",
    "]\n",
    "\n",
    "# region 0: U.S. Service Schools\n",
    "# region 1: New England (CT, ME, MA, NH, RI, VT)\n",
    "# region 2: Mid East (DE, DC, MD, NJ, NY, PA)\n",
    "# region 3: Great Lakes (IL, IN, MI, OH, WI)\n",
    "# region 4: Plains (IA, KS, MN, MO, NE, ND, SD)\n",
    "# region 5: Southeast (AL, AR, FL, GA, KY, LA, MS, NC, SC, TN, VA, WV)\n",
    "# region 6: Southwest (AZ, NM, OK, TX)\n",
    "# region 7: Rocky Mountains (CO, ID, MT, UT, WY)\n",
    "# region 8: Far West (AK, CA, HI, NV, OR, WA)\n",
    "# region 9: Outlying Areas (AS, FM, GU, MH, MP, PR, PW, VI)\n",
    "\n",
    "# Select relevant columns and drop rows with NaN values\n",
    "df = df[cols].dropna()\n",
    "# Keep only rows where REGION is between 1 and 8\n",
    "df = df[(df['REGION'] >= 1) & (df['REGION'] <= 8)]"
   ]
  },
  {
   "cell_type": "markdown",
   "id": "6b5e4637",
   "metadata": {},
   "source": [
    "## Create Binary Target"
   ]
  },
  {
   "cell_type": "code",
   "execution_count": 4,
   "id": "317b2de9",
   "metadata": {},
   "outputs": [],
   "source": [
    "# if retention rate is above 0.85, it is a success\n",
    "# otherwise, it is a failure\n",
    "df['TARGET'] = (df['RET_FT4'] > 0.85).astype(int)"
   ]
  },
  {
   "cell_type": "markdown",
   "id": "2ca9d272",
   "metadata": {},
   "source": [
    "## Convert Categorical Data"
   ]
  },
  {
   "cell_type": "code",
   "execution_count": 5,
   "id": "6b7a71b1",
   "metadata": {},
   "outputs": [],
   "source": [
    "# group LOCALE values into broader categories\n",
    "def simplify_locale(val):\n",
    "    if val in [11, 12, 13]:\n",
    "        return 'City'\n",
    "    elif val in [21, 22, 23]:\n",
    "        return 'Suburb'\n",
    "    elif val in [31, 32, 33]:\n",
    "        return 'Town'\n",
    "    elif val in [41, 42, 43]:\n",
    "        return 'Rural'\n",
    "    else:\n",
    "        return 'Unknown'\n",
    "    \n",
    "# apply the function to the LOCALE column\n",
    "df['LOCALE_GROUPED'] = df['LOCALE'].apply(simplify_locale)"
   ]
  },
  {
   "cell_type": "markdown",
   "id": "4a2c00ed",
   "metadata": {},
   "source": [
    "## Feature/Target Split"
   ]
  },
  {
   "cell_type": "code",
   "execution_count": 6,
   "id": "4a2cd46a",
   "metadata": {},
   "outputs": [],
   "source": [
    "# One-hot encode REGION and LOCALE_GROUPED\n",
    "df = pd.get_dummies(df, columns=['REGION', 'LOCALE_GROUPED'])\n",
    "\n",
    "# Drop columns not used as features, including the old LOCALE column\n",
    "X = df.drop(columns=['RET_FT4', 'TARGET', 'LOCALE'])\n",
    "y = df['TARGET']"
   ]
  },
  {
   "cell_type": "markdown",
   "id": "1f0e5a45",
   "metadata": {},
   "source": [
    "## Train/Test Split"
   ]
  },
  {
   "cell_type": "code",
   "execution_count": 7,
   "id": "cf27222e",
   "metadata": {},
   "outputs": [],
   "source": [
    "X_train, X_test, y_train, y_test = train_test_split(\n",
    "    X, y, test_size=0.2, random_state=42\n",
    ")"
   ]
  },
  {
   "cell_type": "markdown",
   "id": "a07fb4c8",
   "metadata": {},
   "source": [
    "## Training and Exporting the Model"
   ]
  },
  {
   "cell_type": "code",
   "execution_count": 8,
   "id": "f5e7bb58",
   "metadata": {},
   "outputs": [
    {
     "data": {
      "text/plain": [
       "['../models/model.pkl']"
      ]
     },
     "execution_count": 8,
     "metadata": {},
     "output_type": "execute_result"
    }
   ],
   "source": [
    "rf = RandomForestClassifier(random_state=42)\n",
    "rf.fit(X_train, y_train)\n",
    "\n",
    "joblib.dump(rf, '../models/model.pkl')"
   ]
  },
  {
   "cell_type": "markdown",
   "id": "9dce351a",
   "metadata": {},
   "source": [
    "## Predict Using the Model"
   ]
  },
  {
   "cell_type": "code",
   "execution_count": 9,
   "id": "ff46e231",
   "metadata": {},
   "outputs": [],
   "source": [
    "y_pred = rf.predict(X_test)"
   ]
  },
  {
   "cell_type": "markdown",
   "id": "1e625b7c",
   "metadata": {},
   "source": [
    "## Evaluate Performance"
   ]
  },
  {
   "cell_type": "code",
   "execution_count": 10,
   "id": "b8cf706e",
   "metadata": {},
   "outputs": [
    {
     "name": "stdout",
     "output_type": "stream",
     "text": [
      "              precision    recall  f1-score   support\n",
      "\n",
      "           0       0.85      0.96      0.90       234\n",
      "           1       0.85      0.55      0.67        92\n",
      "\n",
      "    accuracy                           0.85       326\n",
      "   macro avg       0.85      0.76      0.79       326\n",
      "weighted avg       0.85      0.85      0.84       326\n",
      "\n",
      "ROC AUC Score: 0.8700297287253809\n"
     ]
    }
   ],
   "source": [
    "print(classification_report(y_test, y_pred))\n",
    "print(\"ROC AUC Score:\", roc_auc_score(y_test, rf.predict_proba(X_test)[:, 1]))"
   ]
  },
  {
   "cell_type": "markdown",
   "id": "d8ce06bd",
   "metadata": {},
   "source": [
    "## Explanation with SHAP"
   ]
  },
  {
   "cell_type": "code",
   "execution_count": 11,
   "id": "d5f2d474",
   "metadata": {},
   "outputs": [
    {
     "data": {
      "image/png": "[encoded data removed]",
      "text/plain": [
       "<Figure size 800x710 with 2 Axes>"
      ]
     },
     "metadata": {},
     "output_type": "display_data"
    }
   ],
   "source": [
    "explainer = shap.TreeExplainer(rf)\n",
    "\n",
    "shap_values = explainer.shap_values(X_test)\n",
    "\n",
    "shap_values_class1 = shap_values[:, :, 1]  # Get values for class 1\n",
    "shap.summary_plot(shap_values_class1, X_test)\n"
   ]
  }
 ],
 "metadata": {
  "kernelspec": {
   "display_name": ".venv",
   "language": "python",
   "name": "python3"
  },
  "language_info": {
   "codemirror_mode": {
    "name": "ipython",
    "version": 3
   },
   "file_extension": ".py",
   "mimetype": "text/x-python",
   "name": "python",
   "nbconvert_exporter": "python",
   "pygments_lexer": "ipython3",
   "version": "3.13.3"
  }
 },
 "nbformat": 4,
 "nbformat_minor": 5
}
